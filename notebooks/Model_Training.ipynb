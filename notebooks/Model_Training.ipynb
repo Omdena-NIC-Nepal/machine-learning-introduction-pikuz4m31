{
 "cells": [
  {
   "cell_type": "code",
   "execution_count": 3,
   "metadata": {},
   "outputs": [
    {
     "name": "stderr",
     "output_type": "stream",
     "text": [
      "2025-03-31 14:10:36,230 - INFO - Loading dataset...\n",
      "2025-03-31 14:10:36,316 - INFO - Defining preprocessing pipeline...\n",
      "2025-03-31 14:10:36,328 - INFO - Splitting dataset into training and testing sets...\n",
      "2025-03-31 14:10:36,347 - INFO - Applying transformations...\n",
      "2025-03-31 14:10:36,400 - INFO - Training Linear Regression model...\n",
      "2025-03-31 14:10:36,452 - INFO - Cross-validation R² scores: [0.77501982 0.62424945 0.7594282  0.78766681 0.67581438]\n",
      "2025-03-31 14:10:36,454 - INFO - Mean R² score: 0.7244\n",
      "2025-03-31 14:10:36,455 - INFO - Saving model and preprocessor...\n",
      "2025-03-31 14:10:36,480 - INFO - Model training completed and saved.\n"
     ]
    }
   ],
   "source": [
    "import os\n",
    "import pandas as pd\n",
    "import numpy as np\n",
    "import joblib\n",
    "import logging\n",
    "from sklearn.model_selection import train_test_split, cross_val_score\n",
    "from sklearn.linear_model import LinearRegression\n",
    "from sklearn.preprocessing import StandardScaler, OneHotEncoder\n",
    "from sklearn.compose import ColumnTransformer\n",
    "\n",
    "# Setup logging\n",
    "logging.basicConfig(level=logging.INFO, format=\"%(asctime)s - %(levelname)s - %(message)s\")\n",
    "\n",
    "# Load dataset\n",
    "logging.info(\"Loading dataset...\")\n",
    "df = pd.read_csv(\"../data/BostonHousing.csv\")\n",
    "df.head()\n",
    "\n",
    "# Handle missing values\n",
    "df.fillna(df.median(), inplace=True)\n",
    "\n",
    "# Identify categorical and numerical features\n",
    "categorical_features = ['chas']\n",
    "numerical_features = df.columns.difference(['medv', 'chas'])\n",
    "\n",
    "logging.info(\"Defining preprocessing pipeline...\")\n",
    "preprocessor = ColumnTransformer([\n",
    "    ('num', StandardScaler(), numerical_features),\n",
    "    ('cat', OneHotEncoder(drop='first'), categorical_features)\n",
    "])\n",
    "\n",
    "# Split dataset into features and target\n",
    "X = df.drop(columns=['medv'])\n",
    "y = df['medv']\n",
    "\n",
    "# Split the data\n",
    "logging.info(\"Splitting dataset into training and testing sets...\")\n",
    "X_train, X_test, y_train, y_test = train_test_split(X, y, test_size=0.2, random_state=42)\n",
    "\n",
    "# Apply transformations\n",
    "logging.info(\"Applying transformations...\")\n",
    "X_train = preprocessor.fit_transform(X_train)\n",
    "X_test = preprocessor.transform(X_test)\n",
    "\n",
    "# Train the model\n",
    "logging.info(\"Training Linear Regression model...\")\n",
    "model = LinearRegression()\n",
    "model.fit(X_train, y_train)\n",
    "\n",
    "# Perform Cross-Validation (optional hyperparameter tuning step)\n",
    "cv_scores = cross_val_score(model, X_train, y_train, cv=5, scoring='r2')\n",
    "logging.info(f\"Cross-validation R² scores: {cv_scores}\")\n",
    "logging.info(f\"Mean R² score: {cv_scores.mean():.4f}\")\n",
    "\n",
    "# Save model and preprocessor\n",
    "model_dir = \"../models\"\n",
    "os.makedirs(model_dir, exist_ok=True)\n",
    "\n",
    "logging.info(\"Saving model and preprocessor...\")\n",
    "joblib.dump(model, os.path.join(model_dir, \"linear_regression_model.pkl\"))\n",
    "joblib.dump(preprocessor, os.path.join(model_dir, \"preprocessor.pkl\"))\n",
    "\n",
    "logging.info(\"Model training completed and saved.\")"
   ]
  }
 ],
 "metadata": {
  "kernelspec": {
   "display_name": "base",
   "language": "python",
   "name": "python3"
  },
  "language_info": {
   "codemirror_mode": {
    "name": "ipython",
    "version": 3
   },
   "file_extension": ".py",
   "mimetype": "text/x-python",
   "name": "python",
   "nbconvert_exporter": "python",
   "pygments_lexer": "ipython3",
   "version": "3.12.7"
  }
 },
 "nbformat": 4,
 "nbformat_minor": 2
}
